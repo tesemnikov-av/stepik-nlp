{
  "nbformat": 4,
  "nbformat_minor": 0,
  "metadata": {
    "colab": {
      "name": "Суммаризация: TextRank.ipynb",
      "provenance": [],
      "collapsed_sections": []
    },
    "kernelspec": {
      "name": "python3",
      "display_name": "Python 3"
    },
    "language_info": {
      "name": "python"
    }
  },
  "cells": [
    {
      "cell_type": "markdown",
      "metadata": {
        "id": "_7Go2IIQw1Pt"
      },
      "source": [
        "## TextRank"
      ]
    },
    {
      "cell_type": "markdown",
      "metadata": {
        "id": "16QxYyrlBtxV"
      },
      "source": [
        "Устанавливаем и импортируем необходивые библиотеки."
      ]
    },
    {
      "cell_type": "code",
      "metadata": {
        "id": "TPbciCH1w-JW",
        "colab": {
          "base_uri": "https://localhost:8080/"
        },
        "outputId": "6e341742-7e06-4d38-8e7d-6275c7712413"
      },
      "source": [
        "# Install\n",
        "!pip install spacy -U > /dev/null\n",
        "!spacy download ru_core_news_sm > /dev/null\n",
        "\n",
        "# Import\n",
        "import re\n",
        "import nltk\n",
        "from nltk.tokenize import sent_tokenize, RegexpTokenizer\n",
        "import spacy\n",
        "import networkx as nx\n",
        "from itertools import combinations\n",
        "import pandas as pd\n",
        "\n",
        "nlp = spacy.load(\"ru_core_news_sm\")\n",
        "nltk.download('punkt', quiet=True)"
      ],
      "execution_count": 49,
      "outputs": [
        {
          "output_type": "execute_result",
          "data": {
            "text/plain": [
              "True"
            ]
          },
          "metadata": {},
          "execution_count": 49
        }
      ]
    },
    {
      "cell_type": "markdown",
      "metadata": {
        "id": "TocAfFpuB7hb"
      },
      "source": [
        "Выбираем текст для суммаризации:"
      ]
    },
    {
      "cell_type": "code",
      "metadata": {
        "id": "kpQkvwGBw69F"
      },
      "source": [
        "text = \"\"\"Старый кубинский рыбак Сантьяго 84 дня выходит в море и не может ничего поймать, поэтому его начинают считать salao[1], то есть самым что ни на есть невезучим. И только его маленький друг Манолин продолжает ему помогать, хотя отец запрещает ему рыбачить со старым Сантьяго и велит ходить в море с удачливыми рыбаками. Мальчик часто навещает старика в его хижине, помогает относить снасти, готовить еду, они часто разговаривают об американском бейсболе и их любимом игроке Джо Ди Маджио. Сантьяго говорит Манолину, что на следующий день он выйдет подальше в Гольфстрим, к северу от Кубы во Флоридский пролив, уверенный, что его полосе невезения должен наступить конец.\n",
        "На 85-й день старик выходит в Гольфстрим, как обычно, на своей парусной лодке, забрасывает леску, и к полудню ему улыбается удача — на крючок попадается марлин около 5,5 метра длиной. Старик жалеет, что с ним нет мальчика: одному справиться нелегко. В течение двух дней и двух ночей марлин уносит лодку далеко в море. Мало поймать рыбу — с ней ещё надо доплыть до берега. Поранившись леской, Сантьяго понимает своего противника и сострадает ему, часто называя его братом. Он также утверждает, что никто не достоин съесть этого марлина из-за его благородства и достоинства.\n",
        "На третий день рыба начинает плавать вокруг лодки. Изнурённый Сантьяго, практически в бреду, тратит свои последние силы, чтобы вытащить рыбу к поверхности и засадить в неё гарпун. Потом привязывает марлина к борту лодки и направляется домой, думая о высокой цене, которую он получит за неё на рынке, и о людях, которых он накормит.\n",
        "На кровь из ран рыбы к лодке старика собираются акулы. Старик вступает с ними в схватку, убивает большую акулу-мако своим гарпуном, но теряет своё оружие. Он изготавливает новый гарпун, привязав свой нож к концу весла, чтобы отбиться от очередной атаки акул; таким способом он убивает пять акул, заставив остальных отступить. Но здесь силы неравны, и с наступлением ночи акулы пожирают почти всю тушу марлина, оставив от него лишь скелет из спинного хребта, хвоста и головы. Сантьяго понимает, что сейчас он стал совершенно невезучим, и, признавая поражение, говорит акулам, что они на самом деле убили человека и его мечты. Когда Сантьяго доплывает до берега перед рассветом следующего дня, он с трудом поднимается к своей хижине, взвалив тяжёлую мачту на плечо, а скелет рыбы оставив на берегу. Войдя в дом, он ложится на кровать и засыпает.\n",
        "На следующий день вокруг лодки, к которой всё ещё был привязан рыбий скелет, собирается множество рыбаков. Один из рыбаков измеряет скелет верёвкой. Педрико забирает себе голову рыбы, а остальные рыбаки велят Манолину передать старику, что они сочувствуют ему. Туристы в соседнем кафе ошибочно принимают марлина за акулу. Манолин, переживая за старика, плачет, когда видит его израненные руки и убеждается, что тот дышит. Мальчик приносит в хижину газеты и кофе. Когда старик просыпается, они договариваются выйти в море ещё раз вместе. Заснув снова, Сантьяго видит во сне свою юность: львов на африканском побережье.\"\"\""
      ],
      "execution_count": 50,
      "outputs": []
    },
    {
      "cell_type": "markdown",
      "metadata": {
        "id": "MDzXO78vB-D9"
      },
      "source": [
        "Разбиваем текст на предложения:"
      ]
    },
    {
      "cell_type": "code",
      "metadata": {
        "id": "QTOpGDr8-9E_",
        "colab": {
          "base_uri": "https://localhost:8080/"
        },
        "outputId": "a33af110-6b2f-4730-bda1-f3f7d3299e8f"
      },
      "source": [
        "sentences = sent_tokenize(text)\n",
        "print(sentences[:3])"
      ],
      "execution_count": 51,
      "outputs": [
        {
          "output_type": "stream",
          "name": "stdout",
          "text": [
            "['Старый кубинский рыбак Сантьяго 84 дня выходит в море и не может ничего поймать, поэтому его начинают считать salao[1], то есть самым что ни на есть невезучим.', 'И только его маленький друг Манолин продолжает ему помогать, хотя отец запрещает ему рыбачить со старым Сантьяго и велит ходить в море с удачливыми рыбаками.', 'Мальчик часто навещает старика в его хижине, помогает относить снасти, готовить еду, они часто разговаривают об американском бейсболе и их любимом игроке Джо Ди Маджио.']\n"
          ]
        }
      ]
    },
    {
      "cell_type": "markdown",
      "metadata": {
        "id": "Bv1Me-ciCWQM"
      },
      "source": [
        "Из текста удаляем все последовательности, которые не подходят под регулярное выражение: \\w т.е. [A-Za-z0-9_]"
      ]
    },
    {
      "cell_type": "code",
      "metadata": {
        "id": "niaCEp8wDECy"
      },
      "source": [
        "\n",
        "tokenizer = RegexpTokenizer(r'\\w+')\n",
        "words = [tokenizer.tokenize(sentence) for sentence in sentences]\n",
        "\n",
        "sentences_lemma = []\n",
        "\n",
        "for sentence in sentences:\n",
        "    doc = nlp(sentence)\n",
        "    lemmas = [token.lemma_ for token in doc if not token.is_stop]\n",
        "    sentences_lemma.append(set(lemmas))"
      ],
      "execution_count": 52,
      "outputs": []
    },
    {
      "cell_type": "code",
      "metadata": {
        "colab": {
          "base_uri": "https://localhost:8080/"
        },
        "id": "kzAR2PzZ_GyS",
        "outputId": "ec994335-21cd-4945-f39a-8d637e0a4389"
      },
      "source": [
        "print(sentences_lemma[:2])"
      ],
      "execution_count": 53,
      "outputs": [
        {
          "output_type": "stream",
          "name": "stdout",
          "text": [
            "[{'считать', ']', ',', 'поймать', 'кубинский', 'самым', 'море', 'поэтому', '84', 'день', 'рыбак', 'ни', 'ничто', 'выходить', 'старый', 'невезучий', 'salao[1', '.', 'сантьяго', 'начинать'}, {'помогать', ',', 'удачливый', 'продолжать', 'маленький', 'ходить', 'море', 'велеть', 'хотя', 'запрещать', 'рыбачить', 'рыбак', 'отец', 'манолин', 'друг', 'старый', '.', 'сантьяго', 'со'}]\n"
          ]
        }
      ]
    },
    {
      "cell_type": "markdown",
      "metadata": {
        "id": "kGymCsPxGyjM"
      },
      "source": [
        "Определяем нашу меру сходства двух предложений:"
      ]
    },
    {
      "cell_type": "code",
      "metadata": {
        "id": "90AWdL1cGvBJ"
      },
      "source": [
        "def similarity(s1, s2):\n",
        "    return len(s1.intersection(s2))/(1.0 * (len(s1) + len(s2)))"
      ],
      "execution_count": 54,
      "outputs": []
    },
    {
      "cell_type": "markdown",
      "metadata": {
        "id": "MqQE3PkDD2h_"
      },
      "source": [
        "Для каждой возможной пары предложений в тексте вычисляется численное значение, измеряющее их схожесть"
      ]
    },
    {
      "cell_type": "code",
      "metadata": {
        "id": "eFIeq1es-CK2",
        "colab": {
          "base_uri": "https://localhost:8080/"
        },
        "outputId": "2a9eea53-343b-4844-a164-d47d6e55ed3f"
      },
      "source": [
        "pairs = combinations(range(len(sentences)), 2)\n",
        "scores = [(i, j, similarity(sentences_lemma[i], sentences_lemma[j])) for i, j in pairs]\n",
        "# scores = filter(lambda x: x[2], scores)\n",
        "print(scores[:2])"
      ],
      "execution_count": 55,
      "outputs": [
        {
          "output_type": "stream",
          "name": "stdout",
          "text": [
            "[(0, 1, 0.3076923076923077), (0, 2, 0.1)]\n"
          ]
        }
      ]
    },
    {
      "cell_type": "markdown",
      "metadata": {
        "id": "dtSYE9VtEKSM"
      },
      "source": [
        "Создаем по данным значения граф:"
      ]
    },
    {
      "cell_type": "code",
      "metadata": {
        "id": "bb4MyNpggkgI"
      },
      "source": [
        "g = nx.Graph()\n",
        "g.add_weighted_edges_from(scores)"
      ],
      "execution_count": 57,
      "outputs": []
    },
    {
      "cell_type": "markdown",
      "metadata": {
        "id": "YyXNpPyIEbO6"
      },
      "source": [
        "Применяем алгоритм PageRank:"
      ]
    },
    {
      "cell_type": "code",
      "metadata": {
        "id": "IdjP8GP_2pAa"
      },
      "source": [
        "pr = nx.pagerank(g)\n",
        "result = sorted(((i, pr[i], s) for i, s in enumerate(sentences) if i in pr), \n",
        "                key=lambda x: pr[x[0]], reverse=True)"
      ],
      "execution_count": 58,
      "outputs": []
    },
    {
      "cell_type": "markdown",
      "metadata": {
        "id": "t-aoAqwNFqFP"
      },
      "source": [
        "Сортируем наши предложения по индексу PageRank:"
      ]
    },
    {
      "cell_type": "code",
      "metadata": {
        "id": "gg0VWaW-aQsA"
      },
      "source": [
        "df = pd.DataFrame(result, columns=['Номер_предложения', 'Индекс_rank', 'Исходное_предложение']).sort_values(['Индекс_rank'], ascending=False)"
      ],
      "execution_count": 59,
      "outputs": []
    },
    {
      "cell_type": "code",
      "metadata": {
        "colab": {
          "base_uri": "https://localhost:8080/",
          "height": 205
        },
        "id": "1l8RoiTcyshq",
        "outputId": "58ad4440-704d-46b3-9989-f8b5bb540ffb"
      },
      "source": [
        "df.head(5)"
      ],
      "execution_count": 60,
      "outputs": [
        {
          "output_type": "execute_result",
          "data": {
            "text/html": [
              "<div>\n",
              "<style scoped>\n",
              "    .dataframe tbody tr th:only-of-type {\n",
              "        vertical-align: middle;\n",
              "    }\n",
              "\n",
              "    .dataframe tbody tr th {\n",
              "        vertical-align: top;\n",
              "    }\n",
              "\n",
              "    .dataframe thead th {\n",
              "        text-align: right;\n",
              "    }\n",
              "</style>\n",
              "<table border=\"1\" class=\"dataframe\">\n",
              "  <thead>\n",
              "    <tr style=\"text-align: right;\">\n",
              "      <th></th>\n",
              "      <th>Номер_предложения</th>\n",
              "      <th>Индекс_rank</th>\n",
              "      <th>Исходное_предложение</th>\n",
              "    </tr>\n",
              "  </thead>\n",
              "  <tbody>\n",
              "    <tr>\n",
              "      <th>0</th>\n",
              "      <td>20</td>\n",
              "      <td>0.045055</td>\n",
              "      <td>На следующий день вокруг лодки, к которой всё ...</td>\n",
              "    </tr>\n",
              "    <tr>\n",
              "      <th>1</th>\n",
              "      <td>5</td>\n",
              "      <td>0.044173</td>\n",
              "      <td>Старик жалеет, что с ним нет мальчика: одному ...</td>\n",
              "    </tr>\n",
              "    <tr>\n",
              "      <th>2</th>\n",
              "      <td>26</td>\n",
              "      <td>0.042529</td>\n",
              "      <td>Когда старик просыпается, они договариваются в...</td>\n",
              "    </tr>\n",
              "    <tr>\n",
              "      <th>3</th>\n",
              "      <td>22</td>\n",
              "      <td>0.041079</td>\n",
              "      <td>Педрико забирает себе голову рыбы, а остальные...</td>\n",
              "    </tr>\n",
              "    <tr>\n",
              "      <th>4</th>\n",
              "      <td>13</td>\n",
              "      <td>0.039642</td>\n",
              "      <td>На кровь из ран рыбы к лодке старика собираютс...</td>\n",
              "    </tr>\n",
              "  </tbody>\n",
              "</table>\n",
              "</div>"
            ],
            "text/plain": [
              "   Номер_предложения  ...                               Исходное_предложение\n",
              "0                 20  ...  На следующий день вокруг лодки, к которой всё ...\n",
              "1                  5  ...  Старик жалеет, что с ним нет мальчика: одному ...\n",
              "2                 26  ...  Когда старик просыпается, они договариваются в...\n",
              "3                 22  ...  Педрико забирает себе голову рыбы, а остальные...\n",
              "4                 13  ...  На кровь из ран рыбы к лодке старика собираютс...\n",
              "\n",
              "[5 rows x 3 columns]"
            ]
          },
          "metadata": {},
          "execution_count": 60
        }
      ]
    },
    {
      "cell_type": "markdown",
      "metadata": {
        "id": "r9E1WuhUF4Y7"
      },
      "source": [
        "Выбираем 4 самых значимых предложения и сортируем их в том порядке, в котором они встречаются в тексте. Это и будем \"Кратким содержанием\" исходного текста:"
      ]
    },
    {
      "cell_type": "code",
      "metadata": {
        "colab": {
          "base_uri": "https://localhost:8080/"
        },
        "id": "ArhZd8LkbZUl",
        "outputId": "00a9f4ca-b324-4e49-c586-75205b72a307"
      },
      "source": [
        "df[['Номер_предложения', 'Исходное_предложение']][:4].sort_values(['Номер_предложения'])['Исходное_предложение'].values"
      ],
      "execution_count": 61,
      "outputs": [
        {
          "output_type": "execute_result",
          "data": {
            "text/plain": [
              "array(['Старик жалеет, что с ним нет мальчика: одному справиться нелегко.',\n",
              "       'На следующий день вокруг лодки, к которой всё ещё был привязан рыбий скелет, собирается множество рыбаков.',\n",
              "       'Педрико забирает себе голову рыбы, а остальные рыбаки велят Манолину передать старику, что они сочувствуют ему.',\n",
              "       'Когда старик просыпается, они договариваются выйти в море ещё раз вместе.'],\n",
              "      dtype=object)"
            ]
          },
          "metadata": {},
          "execution_count": 61
        }
      ]
    }
  ]
}